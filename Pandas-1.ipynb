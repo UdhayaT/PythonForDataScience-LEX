{
 "cells": [
  {
   "cell_type": "code",
   "execution_count": 1,
   "metadata": {},
   "outputs": [
    {
     "name": "stdout",
     "output_type": "stream",
     "text": [
      "    C1  C2    C3\n",
      "R1   1   2   NaN\n",
      "R2   5  10  20.0\n"
     ]
    }
   ],
   "source": [
    "import pandas as pd\n",
    "lst = [{\"C1\": 1,\"C2\":2},{\"C1\": 5, \"C2\": 10, \"C3\": 20}]\n",
    "print(pd.DataFrame(lst,index = [\"R1\",\"R2\"]))\n"
   ]
  },
  {
   "cell_type": "code",
   "execution_count": 2,
   "metadata": {},
   "outputs": [
    {
     "name": "stdout",
     "output_type": "stream",
     "text": [
      "   C1 C2\n",
      "R1  1  2\n",
      "R2  3  4\n"
     ]
    }
   ],
   "source": [
    "dc = {\"C1\":[\"1\",\"3\"],\n",
    "      \"C2\":[\"2\",\"4\"]}\n",
    "print(pd.DataFrame(dc,index=[\"R1\",\"R2\"]))"
   ]
  },
  {
   "cell_type": "code",
   "execution_count": 3,
   "metadata": {},
   "outputs": [
    {
     "name": "stdout",
     "output_type": "stream",
     "text": [
      "    a   b\n",
      "p  50  30\n",
      "q  44  88\n"
     ]
    }
   ],
   "source": [
    "lst=[[50,30],[44,88]]\n",
    "print(pd.DataFrame(lst,index=list('pq'),columns=list('ab')))"
   ]
  },
  {
   "cell_type": "code",
   "execution_count": 4,
   "metadata": {},
   "outputs": [
    {
     "name": "stdout",
     "output_type": "stream",
     "text": [
      "      a   b\n",
      "p  0.23  f1\n",
      "q  5.36  f2\n"
     ]
    }
   ],
   "source": [
    "df = pd.DataFrame([[0.23,'f1'],[5.36,'f2']],\n",
    "                  index = list('pq'),\n",
    "                  columns = list('ab'))\n",
    "print(df)"
   ]
  },
  {
   "cell_type": "code",
   "execution_count": 5,
   "metadata": {},
   "outputs": [
    {
     "name": "stdout",
     "output_type": "stream",
     "text": [
      "      A   b\n",
      "p  0.23  f1\n",
      "q  5.36  f2\n"
     ]
    }
   ],
   "source": [
    "df.rename(columns={'a':'A'},inplace=True)\n",
    "print(df)"
   ]
  },
  {
   "cell_type": "code",
   "execution_count": 6,
   "metadata": {},
   "outputs": [
    {
     "data": {
      "text/html": [
       "<div>\n",
       "<style scoped>\n",
       "    .dataframe tbody tr th:only-of-type {\n",
       "        vertical-align: middle;\n",
       "    }\n",
       "\n",
       "    .dataframe tbody tr th {\n",
       "        vertical-align: top;\n",
       "    }\n",
       "\n",
       "    .dataframe thead th {\n",
       "        text-align: right;\n",
       "    }\n",
       "</style>\n",
       "<table border=\"1\" class=\"dataframe\">\n",
       "  <thead>\n",
       "    <tr style=\"text-align: right;\">\n",
       "      <th></th>\n",
       "      <th>A</th>\n",
       "      <th>b</th>\n",
       "      <th>c</th>\n",
       "    </tr>\n",
       "  </thead>\n",
       "  <tbody>\n",
       "    <tr>\n",
       "      <th>p</th>\n",
       "      <td>0.23</td>\n",
       "      <td>f1</td>\n",
       "      <td>1</td>\n",
       "    </tr>\n",
       "    <tr>\n",
       "      <th>q</th>\n",
       "      <td>5.36</td>\n",
       "      <td>f2</td>\n",
       "      <td>2</td>\n",
       "    </tr>\n",
       "  </tbody>\n",
       "</table>\n",
       "</div>"
      ],
      "text/plain": [
       "      A   b  c\n",
       "p  0.23  f1  1\n",
       "q  5.36  f2  2"
      ]
     },
     "execution_count": 6,
     "metadata": {},
     "output_type": "execute_result"
    }
   ],
   "source": [
    "df.assign(c = [1,2])"
   ]
  },
  {
   "cell_type": "code",
   "execution_count": null,
   "metadata": {},
   "outputs": [],
   "source": []
  },
  {
   "cell_type": "markdown",
   "metadata": {},
   "source": [
    "DataFrame Operations - Exercises"
   ]
  },
  {
   "cell_type": "code",
   "execution_count": 7,
   "metadata": {},
   "outputs": [
    {
     "name": "stdout",
     "output_type": "stream",
     "text": [
      "a    17\n",
      "b     2\n",
      "c     0\n",
      "d     6\n",
      "e    23\n",
      "dtype: int64\n",
      "[False, False, True, True, False]\n",
      "    c   d\n",
      "p   5  11\n",
      "q   9 -11\n",
      "r -19   2\n",
      "s   1  -2\n",
      "t   4   6\n",
      "    c   d   m\n",
      "p   5  11  55\n",
      "q   9 -11 -99\n",
      "r -19   2 -38\n",
      "s   1  -2  -2\n",
      "t   4   6  24\n"
     ]
    }
   ],
   "source": [
    "import numpy as np\n",
    "df = pd.DataFrame([[18,10,5,11,-2],\n",
    "                    [2,-2,9,-11,3],\n",
    "                    [-4,6,-19,2,1],\n",
    "                    [3,-14,1,-2,8],\n",
    "                    [-2,2,4,6,13]],\n",
    "                  index = list('pqrst'),\n",
    "                    columns = list('abcde'))\n",
    "\n",
    "#Filter all the two consecutive columns whose sum of individual elements is even. \n",
    "#Finally, save these columns into a new dataframe named new_df\n",
    "#and extract the dataframe in an excel file named file_df.xlsx under Sheet 1.\n",
    "new_df = df.apply(np.sum,axis=0)\n",
    "print(new_df)\n",
    "\n",
    "columns_sum_even = [False]*len(new_df)\n",
    "\n",
    "for x in range(0,len(new_df)-1,2):\n",
    "    if new_df[x]%2==0 and new_df[x+1]%2==0:\n",
    "        columns_sum_even[x] = True\n",
    "        columns_sum_even[x+1] = True\n",
    "print(columns_sum_even)  \n",
    "\n",
    "new_df = df[df.columns[columns_sum_even]]\n",
    "print(new_df)\n",
    "writer = pd.ExcelWriter('file_df.xlsx')\n",
    "new_df.to_excel(writer, sheet_name='Sheet 1')\n",
    "\n",
    "#Copy new_df dataframe into a new dataframe df_temp. \n",
    "#Append a new column named as 'm' to the df_temp dataframe which \n",
    "#defines the multiplication of each element in one row. \n",
    "#Save this dataframe in Sheet 2 of file_df excel file\n",
    "df_temp = new_df.copy()\n",
    "df_temp = df_temp.eval('m=c*d')\n",
    "print(df_temp)\n",
    "df_temp.to_excel(writer, sheet_name='Sheet 2')\n",
    "writer.save()\n",
    "writer.close()"
   ]
  },
  {
   "cell_type": "code",
   "execution_count": null,
   "metadata": {},
   "outputs": [],
   "source": [
    "\n"
   ]
  },
  {
   "cell_type": "code",
   "execution_count": 8,
   "metadata": {},
   "outputs": [
    {
     "name": "stdout",
     "output_type": "stream",
     "text": [
      "    D   E\n",
      "A  15  12\n",
      "B  33  54\n",
      "C  10  32\n",
      "    D   E\n",
      "A  15  12\n",
      "C  10  32\n",
      "A    12\n",
      "B    54\n",
      "C    32\n",
      "Name: E, dtype: int64\n",
      "33\n",
      "    0   1\n",
      "0  15  12\n",
      "1  33  54\n",
      "2  10  32\n",
      "    0   1\n",
      "0  15  12\n",
      "1  33  54\n",
      "    0\n",
      "0  15\n",
      "1  33\n",
      "2  10\n",
      "    0   1\n",
      "0  15  12\n",
      "1  33  54\n",
      "2  10  32\n",
      "       col1  col2\n",
      "one      15    12\n",
      "two      33    54\n",
      "three    10    32\n",
      "       col1  col2\n",
      "one      15    12\n",
      "three    10    32\n",
      "       col1  col2\n",
      "one      15    12\n",
      "two      33    54\n",
      "three    10    32\n",
      "      0     1\n",
      "0  15.0   NaN\n",
      "1  33.0  54.0\n",
      "2   NaN  32.0\n"
     ]
    }
   ],
   "source": [
    "#Selection Types\n",
    "#Selection by Labels\n",
    "import pandas as pd\n",
    "df = pd.DataFrame([[15, 12],\n",
    "                    [33, 54],\n",
    "                    [10, 32]], \n",
    "                    index = list('ABC'),\n",
    "                    columns = list('DE'))\n",
    "print(df)\n",
    "print(df.loc[['A','C'],:])\n",
    "#     D   E\n",
    "# A  15  12\n",
    "# C  10  32\n",
    "\n",
    "print(df.loc[:,'E'])\n",
    "# A    12\n",
    "# B    54\n",
    "# C    32\n",
    "# Name: E, dtype: int64\n",
    "\n",
    "print(df.loc['B', 'D'])\n",
    "# 33\n",
    "\n",
    "#Selection by Position\n",
    "df = pd.DataFrame([[15, 12],\n",
    "                    [33, 54],\n",
    "                    [10, 32]])\n",
    "print(df)\n",
    "#     0   1\n",
    "# 0  15  12\n",
    "# 1  33  54\n",
    "# 2  10  32\n",
    "\n",
    "print(df.iloc[0:2,:]) \n",
    "#     0   1\n",
    "# 0  15  12\n",
    "# 1  33  54\n",
    "\n",
    "print(df.iloc[:,0:1])\n",
    "#     0\n",
    "# 0  15\n",
    "# 1  33\n",
    "# 2  10\n",
    "\n",
    "print(df.iloc[:,:])\n",
    "#     0   1\n",
    "# 0  15  12\n",
    "# 1  33  54\n",
    "# 2  10  32 \n",
    "\n",
    "\n",
    "#Selection by Regular Expressions\n",
    "df = pd.DataFrame([[15, 12],\n",
    "                    [33, 54],\n",
    "                    [10, 32]], \n",
    "                    index = ['one','two','three'],\n",
    "                    columns = ['col1', 'col2'])\n",
    "print(df)\n",
    "print(df.filter(regex='e$',axis=0))\n",
    "print(df.filter(regex='^c',axis=1))\n",
    "\n",
    "#Boolean Indexing\n",
    "df = pd.DataFrame([[15, 12],\n",
    "                    [33, 54],\n",
    "                    [10, 32]])\n",
    "print(df[df >= 15])\n",
    "#       0     1\n",
    "# 0  15.0   NaN\n",
    "# 1  33.0  54.0\n",
    "# 2   NaN  32.0 "
   ]
  },
  {
   "cell_type": "code",
   "execution_count": null,
   "metadata": {},
   "outputs": [],
   "source": []
  },
  {
   "cell_type": "markdown",
   "metadata": {},
   "source": [
    "Data cleaning - Exercise"
   ]
  },
  {
   "cell_type": "code",
   "execution_count": 9,
   "metadata": {},
   "outputs": [
    {
     "name": "stdout",
     "output_type": "stream",
     "text": [
      "Series([], dtype: float64)\n"
     ]
    }
   ],
   "source": [
    "#Problem Statement:\n",
    "#Consider Pittsburgh bridge dataset which consists of 108 instances and 13 attributes. Perform the listed tasks:\n",
    "#Copy and save dataset to your local drive with name bridge.xlsx. \n",
    "#Since all the data is combined into 1 column, therefore, \n",
    "#write a python code using pandas to separate this data into distinct columns.\n",
    "\n",
    "#Pittsburgh dataset is downloaded at C:\\Downloads/bridges.version\n",
    "from pandas import ExcelWriter\n",
    "from pandas import ExcelFile\n",
    "df = pd.read_csv(r'C:\\Users\\udhaya_thiagarajan\\Downloads\\bridges.version')\n",
    "\n",
    "#2. Provide header to the dataframe with given values\n",
    "df.columns = ['IDENTIF','RIVER', 'LOCATION', 'ERECTED', 'PURPOSE', 'LENGTH', 'LANES', \n",
    "  'CLEAR-G', 'T-OR-D', 'MATERIAL', 'SPAN', 'REL-L', 'TYPE']\n",
    "\n",
    "#3. List names of the column(s) along with the count of missing number of values. \n",
    "#Here, missing values are coded with '?'.\n",
    "#print(df.where(df.values=='?').count(axis=0))\n",
    "\n",
    "#4. Find the column(s) names ending with either of the following 'N', 'H', 'S'.\n",
    "#If the number of recorded data in these columns are less than 100, drop them.\n",
    "df1= df.filter(regex='[NHS]$',axis=1)\n",
    "temp = df1.where(df1!='?').count()<100\n",
    "\n",
    "#print(df1.drop(df1.columns[temp.values],axis=1))\n",
    "\n",
    "#5. Drop all the row(s) which have more than or equal to 2 missing values. \n",
    "#What is the shape of the final DataFrame?\n",
    "temp = df.where(df=='?').count(axis=1)\n",
    "temp = df.drop(df.index[temp.values>=2])\n",
    "print(temp.median(axis=0))\n",
    "\n",
    "#6.Fill all the remaining missing values with the median of each column values.\n",
    "new_df= pd.DataFrame([df.columns])\n",
    "#print(new_df)\n",
    "\n",
    "\n",
    "#writer = pd.ExcelWriter(r'D:\\Udhaya\\LEX\\PythonForDataScience\\PythonDS-BridgeData.xlsx')\n",
    "#df.to_excel(writer,sheet_name='Sheet1')\n",
    "\n",
    "\n",
    "#writer.save()\n",
    "#writer.close()"
   ]
  },
  {
   "cell_type": "code",
   "execution_count": null,
   "metadata": {},
   "outputs": [],
   "source": []
  },
  {
   "cell_type": "markdown",
   "metadata": {},
   "source": [
    "Merging"
   ]
  },
  {
   "cell_type": "code",
   "execution_count": 10,
   "metadata": {},
   "outputs": [
    {
     "data": {
      "text/plain": [
       "0    a\n",
       "1    b\n",
       "dtype: object"
      ]
     },
     "execution_count": 10,
     "metadata": {},
     "output_type": "execute_result"
    }
   ],
   "source": [
    "pd.Series(['a','b'])"
   ]
  },
  {
   "cell_type": "code",
   "execution_count": null,
   "metadata": {},
   "outputs": [],
   "source": []
  }
 ],
 "metadata": {
  "kernelspec": {
   "display_name": "Python 3",
   "language": "python",
   "name": "python3"
  },
  "language_info": {
   "codemirror_mode": {
    "name": "ipython",
    "version": 3
   },
   "file_extension": ".py",
   "mimetype": "text/x-python",
   "name": "python",
   "nbconvert_exporter": "python",
   "pygments_lexer": "ipython3",
   "version": "3.6.5"
  }
 },
 "nbformat": 4,
 "nbformat_minor": 2
}
